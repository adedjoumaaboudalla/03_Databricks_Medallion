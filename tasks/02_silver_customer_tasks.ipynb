{
 "cells": [
  {
   "cell_type": "code",
   "execution_count": 0,
   "metadata": {
    "application/vnd.databricks.v1+cell": {
     "cellMetadata": {
      "byteLimit": 2048000,
      "rowLimit": 10000
     },
     "inputWidgets": {},
     "nuid": "40129160-1bec-4caf-abd0-a7071896b75a",
     "showTitle": false,
     "tableResultSettingsMap": {},
     "title": ""
    }
   },
   "outputs": [],
   "source": [
    "%run ../config/init_config\n"
   ]
  },
  {
   "cell_type": "code",
   "execution_count": 0,
   "metadata": {
    "application/vnd.databricks.v1+cell": {
     "cellMetadata": {
      "byteLimit": 2048000,
      "rowLimit": 10000
     },
     "inputWidgets": {},
     "nuid": "83df775e-6a5e-4085-850f-0e9588372ece",
     "showTitle": false,
     "tableResultSettingsMap": {},
     "title": ""
    }
   },
   "outputs": [],
   "source": [
    "from pyspark.sql.functions import from_json, to_date, lit, col, row_number, broadcast, count, sum\n",
    "from pyspark.sql.window import Window\n",
    "\n",
    "country_path = \"file:/Workspace/Users/joelledidanera@gmail.com/03_Databricks_Medallion/includes/country.json\"\n",
    "\n",
    "country_df = spark.read.json(country_path)"
   ]
  },
  {
   "cell_type": "code",
   "execution_count": 0,
   "metadata": {
    "application/vnd.databricks.v1+cell": {
     "cellMetadata": {
      "byteLimit": 2048000,
      "rowLimit": 10000
     },
     "inputWidgets": {},
     "nuid": "96a98ecb-403e-40e5-829f-ac83b0bf33b3",
     "showTitle": false,
     "tableResultSettingsMap": {},
     "title": ""
    }
   },
   "outputs": [],
   "source": [
    "def process_customer_silver():\n",
    "    customer_schema = \"customer_id STRING, name STRING, age INT, country_code STRING\"\n",
    "\n",
    "    query = (spark.readStream\n",
    "                .format(\"delta\")\n",
    "                .table(\"bronze_raw\")\n",
    "                .filter(\"source_type = 'customers'\")\n",
    "                .select(from_json(\"value\", customer_schema).alias(\"v\"), \"processed_time\")\n",
    "                .select(\"v.*\", \"processed_time\")\n",
    "                .join(broadcast(country_df)).where(col(\"country_code\") == country_df[\"code\"])\n",
    "                .writeStream\n",
    "                .format(\"delta\")\n",
    "                .option(\"mergeSchema\", \"true\")\n",
    "                .option(\"checkpointLocation\", silver_checkpoint_path + \"/customers\")\n",
    "                .trigger(availableNow=True)\n",
    "                .table(\"customer_silver\")\n",
    "                )\n",
    "                        \n",
    "\n",
    "    query.awaitTermination()"
   ]
  },
  {
   "cell_type": "code",
   "execution_count": 0,
   "metadata": {
    "application/vnd.databricks.v1+cell": {
     "cellMetadata": {},
     "inputWidgets": {},
     "nuid": "d7166cc4-26ce-452c-a245-7c416b1ef7ed",
     "showTitle": false,
     "tableResultSettingsMap": {},
     "title": ""
    }
   },
   "outputs": [],
   "source": [
    "process_customer_silver()"
   ]
  },
  {
   "cell_type": "code",
   "execution_count": 0,
   "metadata": {
    "application/vnd.databricks.v1+cell": {
     "cellMetadata": {},
     "inputWidgets": {},
     "nuid": "006b7bcf-669b-4c33-916d-e3e83b6bf662",
     "showTitle": false,
     "tableResultSettingsMap": {},
     "title": ""
    }
   },
   "outputs": [],
   "source": [
    "%sql\n",
    "CREATE TABLE IF NOT EXISTS current_customer_silver (\n",
    "  customer_id STRING,\n",
    "  name STRING,\n",
    "  age INT,\n",
    "  country_code STRING,\n",
    "  country_label STRING,\n",
    "  expired_at TIMESTAMP,\n",
    "  is_current BOOLEAN\n",
    ") USING delta;\n"
   ]
  },
  {
   "cell_type": "code",
   "execution_count": 0,
   "metadata": {
    "application/vnd.databricks.v1+cell": {
     "cellMetadata": {
      "byteLimit": 2048000,
      "rowLimit": 10000
     },
     "inputWidgets": {},
     "nuid": "50fbb916-a5f7-4a3a-aaf1-f5eabaf54f5c",
     "showTitle": false,
     "tableResultSettingsMap": {},
     "title": ""
    }
   },
   "outputs": [],
   "source": [
    "merge_script = \"\"\"\n",
    "MERGE INTO current_customer_silver t\n",
    "USING (\n",
    "    SELECT *, s.customer_id as merge_id FROM update_customer s\n",
    "    UNION ALL\n",
    "    SELECT s.*, NULL as merge_id FROM update_customer s\n",
    "    JOIN current_customer_silver t ON s.customer_id = t.customer_id\n",
    "    WHERE t.is_current = true\n",
    "    ) as customer_updates\n",
    "ON t.customer_id = customer_updates.merge_id AND t.is_current = true\n",
    "WHEN MATCHED AND customer_updates.merge_id IS NULL THEN\n",
    "  UPDATE SET *\n",
    "WHEN MATCHED THEN\n",
    "  UPDATE SET t.is_current = false, t.expired_at = current_timestamp()\n",
    "WHEN NOT MATCHED THEN\n",
    "  INSERT *\n",
    "\"\"\" \n",
    "def process_each_customer_batch(batch_df, batch_id):\n",
    "    window = Window.partitionBy(\"customer_id\").orderBy(col(\"processed_time\").desc())\n",
    "\n",
    "    batch_df = (\n",
    "        batch_df\n",
    "        .withColumn(\"row_num\", row_number().over(window))\n",
    "        .filter(col(\"row_num\") == 1)  # garde la plus récente\n",
    "        .drop(\"row_num\")\n",
    "        .withColumn(\"expired_at\", lit(None).cast(\"timestamp\"))\n",
    "        .withColumn(\"is_current\", lit(True).cast(\"boolean\"))\n",
    "        .withColumnRenamed(\"label\", \"country_label\")\n",
    "        .dropDuplicates(['customer_id'])\n",
    "      )\n",
    "    batch_df.createOrReplaceTempView(\"update_customer\")\n",
    "    #display(batch_df)\n",
    "    batch_df.sparkSession.sql(merge_script)\n",
    "\n",
    "\n",
    "def process_current_customer_silver():\n",
    "  query = (spark.readStream\n",
    "              .table(\"customer_silver\")\n",
    "              .writeStream\n",
    "              .foreachBatch(process_each_customer_batch)\n",
    "              .option(\"mergeSchema\", \"true\")\n",
    "              .option(\"checkpointLocation\", silver_checkpoint_path + \"/current_customer\")\n",
    "              .trigger(availableNow=True)\n",
    "              .start()\n",
    "              )\n",
    "\n",
    "  query.awaitTermination()"
   ]
  },
  {
   "cell_type": "code",
   "execution_count": 0,
   "metadata": {
    "application/vnd.databricks.v1+cell": {
     "cellMetadata": {},
     "inputWidgets": {},
     "nuid": "2e43b0db-a300-44b7-b7aa-89787b2f974d",
     "showTitle": false,
     "tableResultSettingsMap": {},
     "title": ""
    }
   },
   "outputs": [],
   "source": [
    "process_current_customer_silver()"
   ]
  }
 ],
 "metadata": {
  "application/vnd.databricks.v1+notebook": {
   "computePreferences": null,
   "dashboards": [],
   "environmentMetadata": {
    "base_environment": "",
    "environment_version": "4"
   },
   "inputWidgetPreferences": null,
   "language": "python",
   "notebookMetadata": {
    "mostRecentlyExecutedCommandWithImplicitDF": {
     "commandId": 6101723367101876,
     "dataframes": [
      "_sqldf"
     ]
    },
    "pythonIndentUnit": 4
   },
   "notebookName": "02_silver_customer_tasks",
   "widgets": {}
  },
  "language_info": {
   "name": "python"
  }
 },
 "nbformat": 4,
 "nbformat_minor": 0
}
