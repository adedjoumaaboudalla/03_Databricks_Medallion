{
 "cells": [
  {
   "cell_type": "code",
   "execution_count": 0,
   "metadata": {
    "application/vnd.databricks.v1+cell": {
     "cellMetadata": {
      "byteLimit": 2048000,
      "rowLimit": 10000
     },
     "inputWidgets": {},
     "nuid": "40129160-1bec-4caf-abd0-a7071896b75a",
     "showTitle": false,
     "tableResultSettingsMap": {},
     "title": ""
    }
   },
   "outputs": [],
   "source": [
    "%run ../config/init_config\n"
   ]
  },
  {
   "cell_type": "code",
   "execution_count": 0,
   "metadata": {
    "application/vnd.databricks.v1+cell": {
     "cellMetadata": {
      "byteLimit": 2048000,
      "rowLimit": 10000
     },
     "inputWidgets": {},
     "nuid": "83df775e-6a5e-4085-850f-0e9588372ece",
     "showTitle": false,
     "tableResultSettingsMap": {},
     "title": ""
    }
   },
   "outputs": [],
   "source": [
    "from pyspark.sql.functions import from_json, to_date, lit, col, row_number, broadcast, count, sum\n",
    "from pyspark.sql.window import Window\n",
    "\n",
    "country_path = \"file:/Workspace/Users/joelledidanera@gmail.com/03_Databricks_Medallion/includes/country.json\"\n",
    "\n",
    "country_df = spark.read.json(country_path)"
   ]
  },
  {
   "cell_type": "code",
   "execution_count": 0,
   "metadata": {
    "application/vnd.databricks.v1+cell": {
     "cellMetadata": {
      "byteLimit": 2048000,
      "rowLimit": 10000
     },
     "inputWidgets": {},
     "nuid": "0d7d9eae-2ca9-4466-9515-835fa0aded16",
     "showTitle": false,
     "tableResultSettingsMap": {},
     "title": ""
    }
   },
   "outputs": [],
   "source": [
    "def process_vehicle_silver():\n",
    "    vehicle_schema = \"vehicle_id STRING, brand STRING, price FLOAT, model STRING, country_code STRING\"\n",
    "\n",
    "    query = (spark.readStream\n",
    "                .format(\"delta\")\n",
    "                .table(\"bronze_raw\")\n",
    "                .filter(\"source_type = 'vehicles'\")\n",
    "                .select(from_json(\"value\", vehicle_schema).alias(\"v\"), \"processed_time\")\n",
    "                .select(\"v.*\", \"processed_time\")\n",
    "                .join(broadcast(country_df)).where(col(\"country_code\") == country_df[\"code\"])\n",
    "                .writeStream\n",
    "                .format(\"delta\")\n",
    "                .option(\"mergeSchema\", \"true\")\n",
    "                .option(\"checkpointLocation\", silver_checkpoint_path + \"/vehicles\")\n",
    "                .trigger(availableNow=True)\n",
    "                .table(\"vehicle_silver\")\n",
    "                )\n",
    "                        \n",
    "\n",
    "    query.awaitTermination()"
   ]
  },
  {
   "cell_type": "code",
   "execution_count": 0,
   "metadata": {
    "application/vnd.databricks.v1+cell": {
     "cellMetadata": {},
     "inputWidgets": {},
     "nuid": "f6dc7170-efa6-432a-a0ff-2bec8391ff04",
     "showTitle": false,
     "tableResultSettingsMap": {},
     "title": ""
    }
   },
   "outputs": [],
   "source": [
    "process_vehicle_silver()"
   ]
  },
  {
   "cell_type": "code",
   "execution_count": 0,
   "metadata": {
    "application/vnd.databricks.v1+cell": {
     "cellMetadata": {
      "byteLimit": 2048000,
      "implicitDf": true,
      "rowLimit": 10000
     },
     "inputWidgets": {},
     "nuid": "a400fcdc-1518-40b0-bd9f-2bd1adc9cdd2",
     "showTitle": false,
     "tableResultSettingsMap": {},
     "title": ""
    }
   },
   "outputs": [],
   "source": [
    "%sql\n",
    "CREATE TABLE IF NOT EXISTS current_vehicle_silver (\n",
    "  vehicle_id STRING,\n",
    "  brand STRING,\n",
    "  model STRING,\n",
    "  price DOUBLE,\n",
    "  country_code STRING,\n",
    "  country_label STRING,\n",
    "  expired_at TIMESTAMP,\n",
    "  is_current BOOLEAN\n",
    ") USING delta;\n"
   ]
  },
  {
   "cell_type": "code",
   "execution_count": 0,
   "metadata": {
    "application/vnd.databricks.v1+cell": {
     "cellMetadata": {
      "byteLimit": 2048000,
      "rowLimit": 10000
     },
     "inputWidgets": {},
     "nuid": "f0ec3294-359b-4e6a-a026-2423ba8f0ec5",
     "showTitle": false,
     "tableResultSettingsMap": {},
     "title": ""
    }
   },
   "outputs": [],
   "source": [
    "merge_script = \"\"\"\n",
    "MERGE INTO current_vehicle_silver t\n",
    "USING (\n",
    "    SELECT *, s.vehicle_id as merge_id FROM update_vehicle s\n",
    "    UNION ALL\n",
    "    SELECT s.*, NULL as merge_id FROM update_vehicle s\n",
    "    JOIN current_vehicle_silver t ON s.vehicle_id = t.vehicle_id\n",
    "    WHERE t.is_current = true\n",
    "    ) as vehicle_updates\n",
    "ON t.vehicle_id = vehicle_updates.merge_id AND t.is_current = true\n",
    "WHEN MATCHED THEN\n",
    "  UPDATE SET t.is_current = false, t.expired_at = current_timestamp()\n",
    "WHEN NOT MATCHED THEN\n",
    "  INSERT *\n",
    "\"\"\" \n",
    "def process_each_vehicle_batch(batch_df, batch_id):\n",
    "    window = Window.partitionBy(\"vehicle_id\").orderBy(col(\"processed_time\").desc())\n",
    "\n",
    "    batch_df = (\n",
    "        batch_df\n",
    "        .withColumn(\"row_num\", row_number().over(window))\n",
    "        .filter(col(\"row_num\") == 1)  # garde la plus récente\n",
    "        .drop(\"row_num\")\n",
    "        .withColumn(\"expired_at\", lit(None).cast(\"timestamp\"))\n",
    "        .withColumn(\"is_current\", lit(True).cast(\"boolean\"))\n",
    "        .withColumnRenamed(\"label\", \"country_label\")\n",
    "        .dropDuplicates(['vehicle_id'])\n",
    "      )\n",
    "    batch_df.createOrReplaceTempView(\"update_vehicle\")\n",
    "    #display(batch_df)\n",
    "    batch_df.sparkSession.sql(merge_script)\n",
    "\n",
    "\n",
    "def process_current_vehicle_silver():\n",
    "    query = (spark.readStream\n",
    "              .table(\"vehicle_silver\")\n",
    "              .writeStream\n",
    "              .foreachBatch(process_each_vehicle_batch)\n",
    "              .option(\"mergeSchema\", \"true\")\n",
    "              .option(\"checkpointLocation\", silver_checkpoint_path + \"/current_vehicle\")\n",
    "              .trigger(availableNow=True)\n",
    "              .start()\n",
    "              )\n",
    "\n",
    "    query.awaitTermination()"
   ]
  },
  {
   "cell_type": "code",
   "execution_count": 0,
   "metadata": {
    "application/vnd.databricks.v1+cell": {
     "cellMetadata": {},
     "inputWidgets": {},
     "nuid": "5245131c-1f18-4786-9679-639fe5bcbece",
     "showTitle": false,
     "tableResultSettingsMap": {},
     "title": ""
    }
   },
   "outputs": [],
   "source": [
    "process_current_vehicle_silver()"
   ]
  }
 ],
 "metadata": {
  "application/vnd.databricks.v1+notebook": {
   "computePreferences": null,
   "dashboards": [],
   "environmentMetadata": {
    "base_environment": "",
    "environment_version": "4"
   },
   "inputWidgetPreferences": null,
   "language": "python",
   "notebookMetadata": {
    "mostRecentlyExecutedCommandWithImplicitDF": {
     "commandId": 6101723367101876,
     "dataframes": [
      "_sqldf"
     ]
    },
    "pythonIndentUnit": 4
   },
   "notebookName": "02_silver_vehicle_tasks",
   "widgets": {}
  },
  "language_info": {
   "name": "python"
  }
 },
 "nbformat": 4,
 "nbformat_minor": 0
}
