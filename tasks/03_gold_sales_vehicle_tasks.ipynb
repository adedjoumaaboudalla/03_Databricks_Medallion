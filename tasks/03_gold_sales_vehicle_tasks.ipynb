{
 "cells": [
  {
   "cell_type": "code",
   "execution_count": 0,
   "metadata": {
    "application/vnd.databricks.v1+cell": {
     "cellMetadata": {
      "byteLimit": 2048000,
      "rowLimit": 10000
     },
     "inputWidgets": {},
     "nuid": "9c02abce-b9fc-4986-8e5c-0da281f5ea5e",
     "showTitle": false,
     "tableResultSettingsMap": {},
     "title": ""
    }
   },
   "outputs": [],
   "source": [
    "%run ../config/init_config\n"
   ]
  },
  {
   "cell_type": "code",
   "execution_count": 0,
   "metadata": {
    "application/vnd.databricks.v1+cell": {
     "cellMetadata": {
      "byteLimit": 2048000,
      "rowLimit": 10000
     },
     "inputWidgets": {},
     "nuid": "b87744b3-1ecd-4e21-8324-bd27c876ff0b",
     "showTitle": false,
     "tableResultSettingsMap": {},
     "title": ""
    }
   },
   "outputs": [],
   "source": [
    "from pyspark.sql.functions import from_json, to_date, lit, col, row_number, broadcast, count, sum\n",
    "from pyspark.sql.window import Window"
   ]
  },
  {
   "cell_type": "code",
   "execution_count": 0,
   "metadata": {
    "application/vnd.databricks.v1+cell": {
     "cellMetadata": {
      "byteLimit": 2048000,
      "rowLimit": 10000
     },
     "inputWidgets": {},
     "nuid": "57d76b55-5abd-4711-94e0-3352b39cb525",
     "showTitle": false,
     "tableResultSettingsMap": {},
     "title": ""
    }
   },
   "outputs": [],
   "source": [
    "def process_sales_vehicle_gold():\n",
    "    sales_vehicle_gold_df = (spark.read\n",
    "              .table(\"sales_vehicle\")\n",
    "              .groupBy(\"sale_id\", \"order_id\", \"sale_date\", \"vehicle_id\", \"country_code\")\n",
    "              .agg(sum(\"amount\").alias(\"total_amount\"))\n",
    "    )\n",
    "    (\n",
    "        sales_vehicle_gold_df.write\n",
    "        .option(\"mergeSchema\", \"true\")\n",
    "        .mode(\"overwrite\")\n",
    "        .option(\"checkpointLocation\", silver_checkpoint_path + \"/sales_vehicle_gold\")\n",
    "        .saveAsTable(\"sales_vehicle_gold\")\n",
    "    )"
   ]
  },
  {
   "cell_type": "code",
   "execution_count": 0,
   "metadata": {
    "application/vnd.databricks.v1+cell": {
     "cellMetadata": {},
     "inputWidgets": {},
     "nuid": "d0c2e77d-1919-43f4-a817-2c19400f8a7d",
     "showTitle": false,
     "tableResultSettingsMap": {},
     "title": ""
    }
   },
   "outputs": [],
   "source": [
    "process_sales_vehicle_gold()"
   ]
  }
 ],
 "metadata": {
  "application/vnd.databricks.v1+notebook": {
   "computePreferences": null,
   "dashboards": [],
   "environmentMetadata": {
    "base_environment": "",
    "environment_version": "4"
   },
   "inputWidgetPreferences": null,
   "language": "python",
   "notebookMetadata": {
    "pythonIndentUnit": 4
   },
   "notebookName": "03_gold_sales_vehicle_tasks",
   "widgets": {}
  },
  "language_info": {
   "name": "python"
  }
 },
 "nbformat": 4,
 "nbformat_minor": 0
}
