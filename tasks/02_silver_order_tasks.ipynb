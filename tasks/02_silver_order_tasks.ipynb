{
 "cells": [
  {
   "cell_type": "code",
   "execution_count": 0,
   "metadata": {
    "application/vnd.databricks.v1+cell": {
     "cellMetadata": {
      "byteLimit": 2048000,
      "rowLimit": 10000
     },
     "inputWidgets": {},
     "nuid": "40129160-1bec-4caf-abd0-a7071896b75a",
     "showTitle": false,
     "tableResultSettingsMap": {},
     "title": ""
    }
   },
   "outputs": [],
   "source": [
    "%run ../config/init_config\n"
   ]
  },
  {
   "cell_type": "code",
   "execution_count": 0,
   "metadata": {
    "application/vnd.databricks.v1+cell": {
     "cellMetadata": {
      "byteLimit": 2048000,
      "rowLimit": 10000
     },
     "inputWidgets": {},
     "nuid": "83df775e-6a5e-4085-850f-0e9588372ece",
     "showTitle": false,
     "tableResultSettingsMap": {},
     "title": ""
    }
   },
   "outputs": [],
   "source": [
    "from pyspark.sql.functions import from_json, to_date, lit, col, row_number, broadcast, count, sum\n",
    "from pyspark.sql.window import Window"
   ]
  },
  {
   "cell_type": "code",
   "execution_count": 0,
   "metadata": {
    "application/vnd.databricks.v1+cell": {
     "cellMetadata": {
      "byteLimit": 2048000,
      "rowLimit": 10000
     },
     "inputWidgets": {},
     "nuid": "404448fe-9fab-4d89-987b-b4db1323c817",
     "showTitle": false,
     "tableResultSettingsMap": {},
     "title": ""
    }
   },
   "outputs": [],
   "source": [
    "def process_orders_silver():\n",
    "    orders_schema = \"order_id STRING, customer_id STRING, order_date STRING\"\n",
    "\n",
    "    query = (spark.readStream\n",
    "                .format(\"delta\")\n",
    "                .table(\"bronze_raw\")\n",
    "                .filter(\"source_type = 'orders'\")\n",
    "                .select(from_json(\"value\", orders_schema).alias(\"v\"), \"processed_time\")\n",
    "                .select(\"v.*\", \"processed_time\")\n",
    "                .withColumn(\"order_date\", to_date(\"order_date\", \"yyyy-mm-dd\"))\n",
    "                .writeStream\n",
    "                .format(\"delta\")\n",
    "                .option(\"mergeSchema\", \"true\")\n",
    "                .option(\"checkpointLocation\", silver_checkpoint_path + \"/orders\")\n",
    "                .trigger(availableNow=True)\n",
    "                .table(\"order_silver\")\n",
    "                )\n",
    "                        \n",
    "\n",
    "    query.awaitTermination()"
   ]
  },
  {
   "cell_type": "code",
   "execution_count": 0,
   "metadata": {
    "application/vnd.databricks.v1+cell": {
     "cellMetadata": {},
     "inputWidgets": {},
     "nuid": "de7a3b06-4af1-46d5-ae2d-5de6df55d028",
     "showTitle": false,
     "tableResultSettingsMap": {},
     "title": ""
    }
   },
   "outputs": [],
   "source": [
    "process_orders_silver()"
   ]
  }
 ],
 "metadata": {
  "application/vnd.databricks.v1+notebook": {
   "computePreferences": null,
   "dashboards": [],
   "environmentMetadata": {
    "base_environment": "",
    "environment_version": "4"
   },
   "inputWidgetPreferences": null,
   "language": "python",
   "notebookMetadata": {
    "mostRecentlyExecutedCommandWithImplicitDF": {
     "commandId": 6101723367101876,
     "dataframes": [
      "_sqldf"
     ]
    },
    "pythonIndentUnit": 4
   },
   "notebookName": "02_silver_order_tasks",
   "widgets": {}
  },
  "language_info": {
   "name": "python"
  }
 },
 "nbformat": 4,
 "nbformat_minor": 0
}
