{
 "cells": [
  {
   "cell_type": "code",
   "execution_count": 0,
   "metadata": {
    "application/vnd.databricks.v1+cell": {
     "cellMetadata": {
      "byteLimit": 2048000,
      "rowLimit": 10000
     },
     "inputWidgets": {},
     "nuid": "9c02abce-b9fc-4986-8e5c-0da281f5ea5e",
     "showTitle": false,
     "tableResultSettingsMap": {},
     "title": ""
    }
   },
   "outputs": [],
   "source": [
    "%run ../config/init_config\n"
   ]
  },
  {
   "cell_type": "code",
   "execution_count": 0,
   "metadata": {
    "application/vnd.databricks.v1+cell": {
     "cellMetadata": {
      "byteLimit": 2048000,
      "rowLimit": 10000
     },
     "inputWidgets": {},
     "nuid": "b87744b3-1ecd-4e21-8324-bd27c876ff0b",
     "showTitle": false,
     "tableResultSettingsMap": {},
     "title": ""
    }
   },
   "outputs": [],
   "source": [
    "from pyspark.sql.functions import from_json, to_date, lit, col, row_number, broadcast, count, sum\n",
    "from pyspark.sql.window import Window"
   ]
  },
  {
   "cell_type": "code",
   "execution_count": 0,
   "metadata": {
    "application/vnd.databricks.v1+cell": {
     "cellMetadata": {
      "byteLimit": 2048000,
      "rowLimit": 10000
     },
     "inputWidgets": {},
     "nuid": "2ab74919-dfae-4b22-95da-f8cefa2c7b55",
     "showTitle": false,
     "tableResultSettingsMap": {},
     "title": ""
    }
   },
   "outputs": [],
   "source": [
    "order_customer_gold_df = (spark.read\n",
    "              .table(\"order_customer\")\n",
    "              .groupBy(\"customer_id\", \"country_code\", \"order_date\", \"order_id\")\n",
    "              .agg(count(\"*\").alias(\"total_orders\"))\n",
    ")\n",
    "(\n",
    "    order_customer_gold_df.write\n",
    "    .option(\"mergeSchema\", \"true\")\n",
    "    .mode(\"overwrite\")\n",
    "    .option(\"checkpointLocation\", silver_checkpoint_path + \"/order_customer_gold\")\n",
    "    .saveAsTable(\"order_customer_gold\")\n",
    ")\n",
    "order_customer_gold = spark.table(\"order_customer_gold\")\n",
    "display(order_customer_gold)\n"
   ]
  },
  {
   "cell_type": "code",
   "execution_count": 0,
   "metadata": {
    "application/vnd.databricks.v1+cell": {
     "cellMetadata": {
      "byteLimit": 2048000,
      "rowLimit": 10000
     },
     "inputWidgets": {},
     "nuid": "57d76b55-5abd-4711-94e0-3352b39cb525",
     "showTitle": false,
     "tableResultSettingsMap": {},
     "title": ""
    }
   },
   "outputs": [],
   "source": [
    "sales_vehicle_gold_df = (spark.read\n",
    "              .table(\"sales_vehicle\")\n",
    "              .groupBy(\"sale_id\", \"order_id\", \"sale_date\", \"vehicle_id\", \"country_code\")\n",
    "              .agg(sum(\"amount\").alias(\"total_amount\"))\n",
    ")\n",
    "(\n",
    "    sales_vehicle_gold_df.write\n",
    "    .option(\"mergeSchema\", \"true\")\n",
    "    .mode(\"overwrite\")\n",
    "    .option(\"checkpointLocation\", silver_checkpoint_path + \"/sales_vehicle_gold\")\n",
    "    .saveAsTable(\"sales_vehicle_gold\")\n",
    ")\n",
    "sales_vehicle_gold = spark.table(\"sales_vehicle_gold\")\n",
    "display(sales_vehicle_gold)\n"
   ]
  },
  {
   "cell_type": "code",
   "execution_count": 0,
   "metadata": {
    "application/vnd.databricks.v1+cell": {
     "cellMetadata": {},
     "inputWidgets": {},
     "nuid": "2878ce67-4a56-4204-a5d1-61932c9ad893",
     "showTitle": false,
     "tableResultSettingsMap": {},
     "title": ""
    }
   },
   "outputs": [],
   "source": []
  }
 ],
 "metadata": {
  "application/vnd.databricks.v1+notebook": {
   "computePreferences": null,
   "dashboards": [],
   "environmentMetadata": {
    "base_environment": "",
    "environment_version": "4"
   },
   "inputWidgetPreferences": null,
   "language": "python",
   "notebookMetadata": {
    "pythonIndentUnit": 4
   },
   "notebookName": "03_gold_aggregations",
   "widgets": {}
  },
  "language_info": {
   "name": "python"
  }
 },
 "nbformat": 4,
 "nbformat_minor": 0
}
