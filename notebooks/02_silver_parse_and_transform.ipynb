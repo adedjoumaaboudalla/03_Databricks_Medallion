{
 "cells": [
  {
   "cell_type": "code",
   "execution_count": 0,
   "metadata": {
    "application/vnd.databricks.v1+cell": {
     "cellMetadata": {
      "byteLimit": 2048000,
      "rowLimit": 10000
     },
     "inputWidgets": {},
     "nuid": "40129160-1bec-4caf-abd0-a7071896b75a",
     "showTitle": false,
     "tableResultSettingsMap": {},
     "title": ""
    }
   },
   "outputs": [],
   "source": [
    "%run ../config/init_config\n"
   ]
  },
  {
   "cell_type": "code",
   "execution_count": 0,
   "metadata": {
    "application/vnd.databricks.v1+cell": {
     "cellMetadata": {
      "byteLimit": 2048000,
      "rowLimit": 10000
     },
     "inputWidgets": {},
     "nuid": "83df775e-6a5e-4085-850f-0e9588372ece",
     "showTitle": false,
     "tableResultSettingsMap": {},
     "title": ""
    }
   },
   "outputs": [],
   "source": [
    "from pyspark.sql.functions import from_json, to_date, lit, col, row_number, broadcast, count, sum\n",
    "from pyspark.sql.window import Window\n",
    "\n",
    "country_path = \"file:/Workspace/Users/joelledidanera@gmail.com/03_Databricks_Medallion/includes/country.json\"\n",
    "\n",
    "country_df = spark.read.json(country_path)"
   ]
  },
  {
   "cell_type": "code",
   "execution_count": 0,
   "metadata": {
    "application/vnd.databricks.v1+cell": {
     "cellMetadata": {
      "byteLimit": 2048000,
      "rowLimit": 10000
     },
     "inputWidgets": {},
     "nuid": "96a98ecb-403e-40e5-829f-ac83b0bf33b3",
     "showTitle": false,
     "tableResultSettingsMap": {},
     "title": ""
    }
   },
   "outputs": [],
   "source": [
    "def process_customer_silver():\n",
    "    customer_schema = \"customer_id STRING, name STRING, age INT, country_code STRING\"\n",
    "\n",
    "    query = (spark.readStream\n",
    "                .format(\"delta\")\n",
    "                .table(\"bronze_raw\")\n",
    "                .filter(\"source_type = 'customers'\")\n",
    "                .select(from_json(\"value\", customer_schema).alias(\"v\"), \"processed_time\")\n",
    "                .select(\"v.*\", \"processed_time\")\n",
    "                .join(broadcast(country_df)).where(col(\"country_code\") == country_df[\"code\"])\n",
    "                .writeStream\n",
    "                .format(\"delta\")\n",
    "                .option(\"mergeSchema\", \"true\")\n",
    "                .option(\"checkpointLocation\", silver_checkpoint_path + \"/customers\")\n",
    "                .trigger(availableNow=True)\n",
    "                .table(\"customer_silver\")\n",
    "                )\n",
    "                        \n",
    "\n",
    "    query.awaitTermination()"
   ]
  },
  {
   "cell_type": "code",
   "execution_count": 0,
   "metadata": {
    "application/vnd.databricks.v1+cell": {
     "cellMetadata": {},
     "inputWidgets": {},
     "nuid": "d7166cc4-26ce-452c-a245-7c416b1ef7ed",
     "showTitle": false,
     "tableResultSettingsMap": {},
     "title": ""
    }
   },
   "outputs": [],
   "source": [
    "process_customer_silver()"
   ]
  },
  {
   "cell_type": "code",
   "execution_count": 0,
   "metadata": {
    "application/vnd.databricks.v1+cell": {
     "cellMetadata": {
      "byteLimit": 2048000,
      "rowLimit": 10000
     },
     "inputWidgets": {},
     "nuid": "f63e4f6a-3cc7-4c7e-8555-97a0dfa7086e",
     "showTitle": false,
     "tableResultSettingsMap": {},
     "title": ""
    }
   },
   "outputs": [],
   "source": [
    "def process_sales_silver():\n",
    "    sales_schema = \"sale_id STRING, order_id STRING, vehicle_id STRING, sale_date STRING, amount FLOAT\"\n",
    "\n",
    "    query = (spark.readStream\n",
    "                .format(\"delta\")\n",
    "                .table(\"bronze_raw\")\n",
    "                .filter(\"source_type = 'sales'\")\n",
    "                .select(from_json(\"value\", sales_schema).alias(\"v\"), \"processed_time\")\n",
    "                .select(\"v.*\", \"processed_time\")\n",
    "                .withColumn(\"sale_date\", to_date(\"sale_date\", \"yyyy-mm-dd\"))\n",
    "                .writeStream\n",
    "                .format(\"delta\")\n",
    "                .option(\"mergeSchema\", \"true\")\n",
    "                .option(\"checkpointLocation\", silver_checkpoint_path + \"/sales\")\n",
    "                .trigger(availableNow=True)\n",
    "                .table(\"sales_silver\")\n",
    "                )\n",
    "                        \n",
    "\n",
    "    query.awaitTermination()"
   ]
  },
  {
   "cell_type": "code",
   "execution_count": 0,
   "metadata": {
    "application/vnd.databricks.v1+cell": {
     "cellMetadata": {},
     "inputWidgets": {},
     "nuid": "dcc3973a-48dc-4a90-8e7a-00695ff1e2c3",
     "showTitle": false,
     "tableResultSettingsMap": {},
     "title": ""
    }
   },
   "outputs": [],
   "source": [
    "process_sales_silver()"
   ]
  },
  {
   "cell_type": "code",
   "execution_count": 0,
   "metadata": {
    "application/vnd.databricks.v1+cell": {
     "cellMetadata": {
      "byteLimit": 2048000,
      "rowLimit": 10000
     },
     "inputWidgets": {},
     "nuid": "404448fe-9fab-4d89-987b-b4db1323c817",
     "showTitle": false,
     "tableResultSettingsMap": {},
     "title": ""
    }
   },
   "outputs": [],
   "source": [
    "def process_orders_silver():\n",
    "    orders_schema = \"order_id STRING, customer_id STRING, order_date STRING\"\n",
    "\n",
    "    query = (spark.readStream\n",
    "                .format(\"delta\")\n",
    "                .table(\"bronze_raw\")\n",
    "                .filter(\"source_type = 'orders'\")\n",
    "                .select(from_json(\"value\", orders_schema).alias(\"v\"), \"processed_time\")\n",
    "                .select(\"v.*\", \"processed_time\")\n",
    "                .withColumn(\"order_date\", to_date(\"order_date\", \"yyyy-mm-dd\"))\n",
    "                .writeStream\n",
    "                .format(\"delta\")\n",
    "                .option(\"mergeSchema\", \"true\")\n",
    "                .option(\"checkpointLocation\", silver_checkpoint_path + \"/orders\")\n",
    "                .trigger(availableNow=True)\n",
    "                .table(\"order_silver\")\n",
    "                )\n",
    "                        \n",
    "\n",
    "    query.awaitTermination()"
   ]
  },
  {
   "cell_type": "code",
   "execution_count": 0,
   "metadata": {
    "application/vnd.databricks.v1+cell": {
     "cellMetadata": {},
     "inputWidgets": {},
     "nuid": "de7a3b06-4af1-46d5-ae2d-5de6df55d028",
     "showTitle": false,
     "tableResultSettingsMap": {},
     "title": ""
    }
   },
   "outputs": [],
   "source": [
    "process_orders_silver()"
   ]
  },
  {
   "cell_type": "code",
   "execution_count": 0,
   "metadata": {
    "application/vnd.databricks.v1+cell": {
     "cellMetadata": {
      "byteLimit": 2048000,
      "rowLimit": 10000
     },
     "inputWidgets": {},
     "nuid": "0d7d9eae-2ca9-4466-9515-835fa0aded16",
     "showTitle": false,
     "tableResultSettingsMap": {},
     "title": ""
    }
   },
   "outputs": [],
   "source": [
    "def process_vehicle_silver():\n",
    "    vehicle_schema = \"vehicle_id STRING, brand STRING, price FLOAT, model STRING, country_code STRING\"\n",
    "\n",
    "    query = (spark.readStream\n",
    "                .format(\"delta\")\n",
    "                .table(\"bronze_raw\")\n",
    "                .filter(\"source_type = 'vehicles'\")\n",
    "                .select(from_json(\"value\", vehicle_schema).alias(\"v\"), \"processed_time\")\n",
    "                .select(\"v.*\", \"processed_time\")\n",
    "                .join(broadcast(country_df)).where(col(\"country_code\") == country_df[\"code\"])\n",
    "                .writeStream\n",
    "                .format(\"delta\")\n",
    "                .option(\"mergeSchema\", \"true\")\n",
    "                .option(\"checkpointLocation\", silver_checkpoint_path + \"/vehicles\")\n",
    "                .trigger(availableNow=True)\n",
    "                .table(\"vehicle_silver\")\n",
    "                )\n",
    "                        \n",
    "\n",
    "    query.awaitTermination()"
   ]
  },
  {
   "cell_type": "code",
   "execution_count": 0,
   "metadata": {
    "application/vnd.databricks.v1+cell": {
     "cellMetadata": {},
     "inputWidgets": {},
     "nuid": "f6dc7170-efa6-432a-a0ff-2bec8391ff04",
     "showTitle": false,
     "tableResultSettingsMap": {},
     "title": ""
    }
   },
   "outputs": [],
   "source": [
    "process_vehicle_silver()"
   ]
  },
  {
   "cell_type": "code",
   "execution_count": 0,
   "metadata": {
    "application/vnd.databricks.v1+cell": {
     "cellMetadata": {
      "byteLimit": 2048000,
      "implicitDf": true,
      "rowLimit": 10000
     },
     "inputWidgets": {},
     "nuid": "a400fcdc-1518-40b0-bd9f-2bd1adc9cdd2",
     "showTitle": false,
     "tableResultSettingsMap": {},
     "title": ""
    }
   },
   "outputs": [],
   "source": [
    "%sql\n",
    "CREATE TABLE IF NOT EXISTS current_vehicle_silver (\n",
    "  vehicle_id STRING,\n",
    "  brand STRING,\n",
    "  model STRING,\n",
    "  price DOUBLE,\n",
    "  country_code STRING,\n",
    "  country_label STRING,\n",
    "  expired_at TIMESTAMP,\n",
    "  is_current BOOLEAN\n",
    ") USING delta;\n"
   ]
  },
  {
   "cell_type": "code",
   "execution_count": 0,
   "metadata": {
    "application/vnd.databricks.v1+cell": {
     "cellMetadata": {
      "byteLimit": 2048000,
      "rowLimit": 10000
     },
     "inputWidgets": {},
     "nuid": "f0ec3294-359b-4e6a-a026-2423ba8f0ec5",
     "showTitle": false,
     "tableResultSettingsMap": {},
     "title": ""
    }
   },
   "outputs": [],
   "source": [
    "merge_script = \"\"\"\n",
    "MERGE INTO current_vehicle_silver t\n",
    "USING (\n",
    "    SELECT *, s.vehicle_id as merge_id FROM update_vehicle s\n",
    "    UNION ALL\n",
    "    SELECT s.*, NULL as merge_id FROM update_vehicle s\n",
    "    JOIN current_vehicle_silver t ON s.vehicle_id = t.vehicle_id\n",
    "    WHERE t.is_current = true\n",
    "    ) as vehicle_updates\n",
    "ON t.vehicle_id = vehicle_updates.merge_id AND t.is_current = true\n",
    "WHEN MATCHED THEN\n",
    "  UPDATE SET t.is_current = false, t.expired_at = current_timestamp()\n",
    "WHEN NOT MATCHED THEN\n",
    "  INSERT *\n",
    "\"\"\" \n",
    "def process_each_vehicle_batch(batch_df, batch_id):\n",
    "    window = Window.partitionBy(\"vehicle_id\").orderBy(col(\"processed_time\").desc())\n",
    "\n",
    "    batch_df = (\n",
    "        batch_df\n",
    "        .withColumn(\"row_num\", row_number().over(window))\n",
    "        .filter(col(\"row_num\") == 1)  # garde la plus récente\n",
    "        .drop(\"row_num\")\n",
    "        .withColumn(\"expired_at\", lit(None).cast(\"timestamp\"))\n",
    "        .withColumn(\"is_current\", lit(True).cast(\"boolean\"))\n",
    "        .withColumnRenamed(\"label\", \"country_label\")\n",
    "        .dropDuplicates(['vehicle_id'])\n",
    "      )\n",
    "    batch_df.createOrReplaceTempView(\"update_vehicle\")\n",
    "    #display(batch_df)\n",
    "    batch_df.sparkSession.sql(merge_script)\n",
    "\n",
    "\n",
    "def process_current_vehicle_silver():\n",
    "    query = (spark.readStream\n",
    "              .table(\"vehicle_silver\")\n",
    "              .writeStream\n",
    "              .foreachBatch(process_each_vehicle_batch)\n",
    "              .option(\"mergeSchema\", \"true\")\n",
    "              .option(\"checkpointLocation\", silver_checkpoint_path + \"/current_vehicle\")\n",
    "              .trigger(availableNow=True)\n",
    "              .start()\n",
    "              )\n",
    "\n",
    "    query.awaitTermination()"
   ]
  },
  {
   "cell_type": "code",
   "execution_count": 0,
   "metadata": {
    "application/vnd.databricks.v1+cell": {
     "cellMetadata": {},
     "inputWidgets": {},
     "nuid": "5245131c-1f18-4786-9679-639fe5bcbece",
     "showTitle": false,
     "tableResultSettingsMap": {},
     "title": ""
    }
   },
   "outputs": [],
   "source": [
    "process_current_vehicle_silver()"
   ]
  },
  {
   "cell_type": "code",
   "execution_count": 0,
   "metadata": {
    "application/vnd.databricks.v1+cell": {
     "cellMetadata": {
      "byteLimit": 2048000,
      "rowLimit": 10000
     },
     "inputWidgets": {},
     "nuid": "1699e2f4-394f-4c36-b9bb-74fc235ae3bb",
     "showTitle": false,
     "tableResultSettingsMap": {
      "0": {
       "dataGridStateBlob": "{\"version\":1,\"tableState\":{\"columnPinning\":{\"left\":[\"#row_number#\"],\"right\":[]},\"columnSizing\":{},\"columnVisibility\":{}},\"settings\":{\"columns\":{}},\"syncTimestamp\":1760628221771}",
       "filterBlob": null,
       "queryPlanFiltersBlob": null,
       "tableResultIndex": 0
      }
     },
     "title": ""
    }
   },
   "outputs": [],
   "source": [
    "def process_sales_vehicle():\n",
    "    current_vehicle_silver = spark.table(\"current_vehicle_silver\")\n",
    "\n",
    "    query = (spark.readStream\n",
    "                .table(\"sales_silver\")\n",
    "                .withColumnRenamed(\"vehicle_id\", \"vehicle_id_left\")\n",
    "                .join(current_vehicle_silver, col(\"vehicle_id_left\") == col(\"vehicle_id\"), \"inner\")\n",
    "                .drop(\"vehicle_id_left\")\n",
    "                .drop(\"expired_at\")\n",
    "                .drop(\"is_current\")\n",
    "                .writeStream\n",
    "                .format(\"delta\")\n",
    "                .option(\"mergeSchema\", \"true\")\n",
    "                .option(\"checkpointLocation\", silver_checkpoint_path + \"/sales_vehicle\")\n",
    "                .trigger(availableNow=True)\n",
    "                .table(\"sales_vehicle\")\n",
    "                )\n",
    "                        \n",
    "\n",
    "    query.awaitTermination()"
   ]
  },
  {
   "cell_type": "code",
   "execution_count": 0,
   "metadata": {
    "application/vnd.databricks.v1+cell": {
     "cellMetadata": {},
     "inputWidgets": {},
     "nuid": "b9a6a512-64d3-4dc4-94ea-155b34dc0092",
     "showTitle": false,
     "tableResultSettingsMap": {},
     "title": ""
    }
   },
   "outputs": [],
   "source": [
    "process_sales_vehicle()"
   ]
  },
  {
   "cell_type": "code",
   "execution_count": 0,
   "metadata": {
    "application/vnd.databricks.v1+cell": {
     "cellMetadata": {
      "byteLimit": 2048000,
      "implicitDf": true,
      "rowLimit": 10000
     },
     "inputWidgets": {},
     "nuid": "5c6556c7-5b2d-44a9-915c-1fdc4c78e5c7",
     "showTitle": false,
     "tableResultSettingsMap": {},
     "title": ""
    }
   },
   "outputs": [],
   "source": [
    "%sql\n",
    "CREATE TABLE IF NOT EXISTS current_customer_silver (\n",
    "  customer_id STRING,\n",
    "  name STRING,\n",
    "  age INT,\n",
    "  country_code STRING,\n",
    "  country_label STRING,\n",
    "  expired_at TIMESTAMP,\n",
    "  is_current BOOLEAN\n",
    ") USING delta;\n"
   ]
  },
  {
   "cell_type": "code",
   "execution_count": 0,
   "metadata": {
    "application/vnd.databricks.v1+cell": {
     "cellMetadata": {
      "byteLimit": 2048000,
      "rowLimit": 10000
     },
     "inputWidgets": {},
     "nuid": "50fbb916-a5f7-4a3a-aaf1-f5eabaf54f5c",
     "showTitle": false,
     "tableResultSettingsMap": {},
     "title": ""
    }
   },
   "outputs": [],
   "source": [
    "merge_script = \"\"\"\n",
    "MERGE INTO current_customer_silver t\n",
    "USING (\n",
    "    SELECT *, s.customer_id as merge_id FROM update_customer s\n",
    "    UNION ALL\n",
    "    SELECT s.*, NULL as merge_id FROM update_customer s\n",
    "    JOIN current_customer_silver t ON s.customer_id = t.customer_id\n",
    "    WHERE t.is_current = true\n",
    "    ) as customer_updates\n",
    "ON t.customer_id = customer_updates.merge_id AND t.is_current = true\n",
    "WHEN MATCHED AND customer_updates.merge_id IS NULL THEN\n",
    "  UPDATE SET *\n",
    "WHEN MATCHED THEN\n",
    "  UPDATE SET t.is_current = false, t.expired_at = current_timestamp()\n",
    "WHEN NOT MATCHED THEN\n",
    "  INSERT *\n",
    "\"\"\" \n",
    "def process_each_customer_batch(batch_df, batch_id):\n",
    "    window = Window.partitionBy(\"customer_id\").orderBy(col(\"processed_time\").desc())\n",
    "\n",
    "    batch_df = (\n",
    "        batch_df\n",
    "        .withColumn(\"row_num\", row_number().over(window))\n",
    "        .filter(col(\"row_num\") == 1)  # garde la plus récente\n",
    "        .drop(\"row_num\")\n",
    "        .withColumn(\"expired_at\", lit(None).cast(\"timestamp\"))\n",
    "        .withColumn(\"is_current\", lit(True).cast(\"boolean\"))\n",
    "        .withColumnRenamed(\"label\", \"country_label\")\n",
    "        .dropDuplicates(['customer_id'])\n",
    "      )\n",
    "    batch_df.createOrReplaceTempView(\"update_customer\")\n",
    "    #display(batch_df)\n",
    "    batch_df.sparkSession.sql(merge_script)\n",
    "\n",
    "\n",
    "def process_current_customer_silver():\n",
    "  query = (spark.readStream\n",
    "              .table(\"customer_silver\")\n",
    "              .writeStream\n",
    "              .foreachBatch(process_each_customer_batch)\n",
    "              .option(\"mergeSchema\", \"true\")\n",
    "              .option(\"checkpointLocation\", silver_checkpoint_path + \"/current_customer\")\n",
    "              .trigger(availableNow=True)\n",
    "              .start()\n",
    "              )\n",
    "\n",
    "  query.awaitTermination()"
   ]
  },
  {
   "cell_type": "code",
   "execution_count": 0,
   "metadata": {
    "application/vnd.databricks.v1+cell": {
     "cellMetadata": {},
     "inputWidgets": {},
     "nuid": "2e43b0db-a300-44b7-b7aa-89787b2f974d",
     "showTitle": false,
     "tableResultSettingsMap": {},
     "title": ""
    }
   },
   "outputs": [],
   "source": [
    "process_current_customer_silver()"
   ]
  },
  {
   "cell_type": "code",
   "execution_count": 0,
   "metadata": {
    "application/vnd.databricks.v1+cell": {
     "cellMetadata": {
      "byteLimit": 2048000,
      "rowLimit": 10000
     },
     "inputWidgets": {},
     "nuid": "7c1f79a7-94d0-4547-baad-d71e70ddde5b",
     "showTitle": false,
     "tableResultSettingsMap": {},
     "title": ""
    }
   },
   "outputs": [],
   "source": [
    "def process_order_customer():\n",
    "    current_customer_silver = spark.table(\"current_customer_silver\")\n",
    "\n",
    "    query = (spark.readStream\n",
    "                .table(\"order_silver\")\n",
    "                .withColumnRenamed(\"customer_id\", \"customer_id_left\")\n",
    "                .join(current_customer_silver, col(\"customer_id_left\") == col(\"customer_id\"), \"inner\")\n",
    "                .drop(\"customer_id_left\")\n",
    "                .drop(\"expired_at\")\n",
    "                .drop(\"is_current\")\n",
    "                .writeStream\n",
    "                .format(\"delta\")\n",
    "                .option(\"mergeSchema\", \"true\")\n",
    "                .option(\"checkpointLocation\", silver_checkpoint_path + \"/order_customer\")\n",
    "                .trigger(availableNow=True)\n",
    "                .table(\"order_customer\")\n",
    "                )\n",
    "                        \n",
    "\n",
    "    query.awaitTermination()"
   ]
  },
  {
   "cell_type": "code",
   "execution_count": 0,
   "metadata": {
    "application/vnd.databricks.v1+cell": {
     "cellMetadata": {},
     "inputWidgets": {},
     "nuid": "59c30adf-986f-423e-b665-8acc83a20b9b",
     "showTitle": false,
     "tableResultSettingsMap": {},
     "title": ""
    }
   },
   "outputs": [],
   "source": [
    "process_order_customer()"
   ]
  }
 ],
 "metadata": {
  "application/vnd.databricks.v1+notebook": {
   "computePreferences": null,
   "dashboards": [],
   "environmentMetadata": {
    "base_environment": "",
    "environment_version": "4"
   },
   "inputWidgetPreferences": null,
   "language": "python",
   "notebookMetadata": {
    "mostRecentlyExecutedCommandWithImplicitDF": {
     "commandId": 6101723367101876,
     "dataframes": [
      "_sqldf"
     ]
    },
    "pythonIndentUnit": 4
   },
   "notebookName": "02_silver_parse_and_transform",
   "widgets": {}
  },
  "language_info": {
   "name": "python"
  }
 },
 "nbformat": 4,
 "nbformat_minor": 0
}
