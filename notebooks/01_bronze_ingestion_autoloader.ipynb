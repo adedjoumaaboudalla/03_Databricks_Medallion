{
 "cells": [
  {
   "cell_type": "code",
   "execution_count": 0,
   "metadata": {
    "application/vnd.databricks.v1+cell": {
     "cellMetadata": {
      "byteLimit": 2048000,
      "rowLimit": 10000
     },
     "inputWidgets": {},
     "nuid": "9eebabf1-068e-45d8-b268-de0dbcbe2b20",
     "showTitle": false,
     "tableResultSettingsMap": {},
     "title": ""
    }
   },
   "outputs": [],
   "source": [
    "import json\n",
    "\n",
    "# Chemin vers ton fichier config (dans ton repo Databricks ou DBFS)\n",
    "config_path = \"/Workspace/Users/joelledidanera@gmail.com/03_Databricks_Medallion/config/autoloader_config.json\"\n",
    "\n",
    "\n",
    "# Lecture du fichier\n",
    "with open(config_path, \"r\") as f:\n",
    "    config = json.load(f)\n",
    "\n",
    "# Vérification du contenu\n",
    "display(config)\n",
    "\n",
    "\n",
    "source_schema = config[\"source_schema\"]\n",
    "source_path = config[\"source_path\"]\n",
    "bronze_path = config[\"bronze_path\"]\n",
    "bronze_checkpoint_path = config[\"bronze_checkpoint_path\"]\n",
    "silver_checkpoint_path = config[\"silver_checkpoint_path\"]\n",
    "gold_checkpoint_path = config[\"gold_checkpoint_path\"]\n",
    "file_format = config.get(\"file_format\", \"csv\")\n"
   ]
  },
  {
   "cell_type": "code",
   "execution_count": 0,
   "metadata": {
    "application/vnd.databricks.v1+cell": {
     "cellMetadata": {
      "byteLimit": 2048000,
      "rowLimit": 10000
     },
     "inputWidgets": {},
     "nuid": "10e20212-946f-417d-b62f-ee26bb333c31",
     "showTitle": false,
     "tableResultSettingsMap": {
      "0": {
       "dataGridStateBlob": "{\"version\":1,\"tableState\":{\"columnPinning\":{\"left\":[\"#row_number#\"],\"right\":[]},\"columnSizing\":{\"value\":403},\"columnVisibility\":{}},\"settings\":{\"columns\":{}},\"syncTimestamp\":1760538014132}",
       "filterBlob": null,
       "queryPlanFiltersBlob": null,
       "tableResultIndex": 0
      }
     },
     "title": ""
    }
   },
   "outputs": [],
   "source": [
    "\n",
    "query = (spark.readStream\n",
    "              .format(file_format)\n",
    "              .option(\"cloudFiles.format\", file_format)\n",
    "              .option(\"header\", \"true\")\n",
    "              .schema(source_schema)\n",
    "              .load(source_path)\n",
    "              .writeStream\n",
    "              .option(\"checkpointLocation\", bronze_checkpoint_path)\n",
    "              .option(\"mergeSchema\", \"true\")\n",
    "              .partitionBy(\"source_type\")\n",
    "              .trigger(availableNow=True)\n",
    "              .table(\"bronze_raw\")\n",
    ")\n",
    "\n",
    "query.awaitTermination()\n",
    "\n",
    "display(spark.read.table(\"bronze_raw\"))"
   ]
  },
  {
   "cell_type": "code",
   "execution_count": 0,
   "metadata": {
    "application/vnd.databricks.v1+cell": {
     "cellMetadata": {
      "byteLimit": 2048000,
      "implicitDf": true,
      "rowLimit": 10000
     },
     "inputWidgets": {},
     "nuid": "4bc78c48-addc-43f4-b262-4a02c2b721cc",
     "showTitle": false,
     "tableResultSettingsMap": {},
     "title": ""
    }
   },
   "outputs": [],
   "source": [
    "%sql DESCRIBE EXTENDED bronze_raw"
   ]
  }
 ],
 "metadata": {
  "application/vnd.databricks.v1+notebook": {
   "computePreferences": null,
   "dashboards": [],
   "environmentMetadata": {
    "base_environment": "",
    "environment_version": "4"
   },
   "inputWidgetPreferences": null,
   "language": "python",
   "notebookMetadata": {
    "mostRecentlyExecutedCommandWithImplicitDF": {
     "commandId": 5410869619524100,
     "dataframes": [
      "_sqldf"
     ]
    },
    "pythonIndentUnit": 4
   },
   "notebookName": "01_bronze_ingestion_autoloader",
   "widgets": {}
  },
  "language_info": {
   "name": "python"
  }
 },
 "nbformat": 4,
 "nbformat_minor": 0
}
