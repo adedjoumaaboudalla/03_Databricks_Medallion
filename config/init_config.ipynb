{
 "cells": [
  {
   "cell_type": "code",
   "execution_count": 0,
   "metadata": {
    "application/vnd.databricks.v1+cell": {
     "cellMetadata": {},
     "inputWidgets": {},
     "nuid": "bab0be4d-fede-4849-90e6-cf52be9891a5",
     "showTitle": false,
     "tableResultSettingsMap": {},
     "title": ""
    }
   },
   "outputs": [],
   "source": [
    "import json\n",
    "\n",
    "# Chemin vers ton fichier config (dans ton repo Databricks ou DBFS)\n",
    "config_path = \"/Workspace/Users/joelledidanera@gmail.com/03_Databricks_Medallion/config/autoloader_config.json\"\n",
    "\n",
    "\n",
    "# Lecture du fichier\n",
    "with open(config_path, \"r\") as f:\n",
    "    config = json.load(f)\n",
    "\n",
    "# Vérification du contenu\n",
    "print(config)\n",
    "\n",
    "\n",
    "source_schema = config[\"source_schema\"]\n",
    "source_path = config[\"source_path\"]\n",
    "bronze_path = config[\"bronze_path\"]\n",
    "bronze_checkpoint_path = config[\"bronze_checkpoint_path\"]\n",
    "silver_checkpoint_path = config[\"silver_checkpoint_path\"]\n",
    "gold_checkpoint_path = config[\"gold_checkpoint_path\"]\n",
    "file_format = config.get(\"file_format\", \"csv\")"
   ]
  }
 ],
 "metadata": {
  "application/vnd.databricks.v1+notebook": {
   "computePreferences": null,
   "dashboards": [],
   "environmentMetadata": {
    "base_environment": "",
    "environment_version": "4"
   },
   "inputWidgetPreferences": null,
   "language": "python",
   "notebookMetadata": {
    "pythonIndentUnit": 4
   },
   "notebookName": "init_config",
   "widgets": {}
  },
  "language_info": {
   "name": "python"
  }
 },
 "nbformat": 4,
 "nbformat_minor": 0
}
